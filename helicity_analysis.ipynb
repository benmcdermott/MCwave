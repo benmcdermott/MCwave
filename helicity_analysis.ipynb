{
 "cells": [
  {
   "cell_type": "markdown",
   "source": [
    "## Helicity and emf analysis\n",
    "\n",
    "$h_k = \\boldsymbol{u \\cdot \\omega}$, $~$ $h_m = \\boldsymbol{a \\cdot b}$, $~$ $h_c = \\boldsymbol{u \\cdot b}$, $~$ $\\mathcal{E}_x = (\\boldsymbol{u \\times b})_x$\n",
    "\n",
    "$\\langle \\sim \\rangle$ denotes averaging in planes perpendicular to the rotation vector"
   ],
   "metadata": {
    "collapsed": false,
    "pycharm": {
     "name": "#%% md\n"
    }
   }
  },
  {
   "cell_type": "code",
   "execution_count": 28,
   "metadata": {
    "pycharm": {
     "is_executing": false
    }
   },
   "outputs": [],
   "source": [
    "import numpy as np\n",
    "import matplotlib.pyplot as plt\n",
    "import matplotlib.colors as colors\n",
    "import matplotlib.cm as mplcm\n",
    "import helicity as helicity\n",
    "\n",
    "plt.style.use('benmc')\n",
    "sub = 'le1e-8/'\n",
    "inpath = '/vistabella/BRM35_4T/hirm_long/'\n",
    "outpath = '/home/brm35/work/hirm/cloud/long/'"
   ]
  },
  {
   "cell_type": "markdown",
   "source": [
    "Spatial resolution and grid. Note we swap [X,Y,Z] -> [z,x,y] to have $\\Omega \\hat{e}_z$, $\\mathrm{g} \\hat{e}_y$ and $B_0 \\hat{e}_x$."
   ],
   "metadata": {
    "collapsed": false,
    "pycharm": {
     "name": "#%% md\n"
    }
   }
  },
  {
   "cell_type": "code",
   "execution_count": 29,
   "metadata": {
    "pycharm": {
     "is_executing": false
    }
   },
   "outputs": [],
   "source": [
    "NX = 512\n",
    "NY = 512\n",
    "NZ = 4*NX\n",
    "shape = (NZ,NX,NY)\n",
    "delta = 0.125\n",
    "x = np.linspace(-np.pi,np.pi,NX) / delta\n",
    "z = np.linspace(-5.0*np.pi,5.0*np.pi,NZ) / delta"
   ]
  },
  {
   "cell_type": "markdown",
   "source": [
    "**Plane-averaged quantities**\n",
    "\n",
    "Using functions in helicity module"
   ],
   "metadata": {
    "collapsed": false,
    "pycharm": {
     "name": "#%% md\n"
    }
   }
  },
  {
   "cell_type": "code",
   "source": [
    "# Initialise arrays\n",
    "hkav = np.zeros((NZ,5))\n",
    "hkavr = np.zeros((NZ,5))\n",
    "hmav = np.zeros((NZ,5))\n",
    "hmavr = np.zeros((NZ,5))\n",
    "hcav = np.zeros((NZ,5))\n",
    "hcavr = np.zeros((NZ,5))\n",
    "emfx = np.zeros((NZ,5))\n",
    "emfxr = np.zeros((NZ,5))\n",
    "\n",
    "# index counter\n",
    "j = 0\n",
    "\n",
    "# note for cross helicity we take the absolute value as it is not segregated above/below\n",
    "# the source\n",
    "\n",
    "for i in range(3,11+2,2):\n",
    "    # kinetic helicity\n",
    "    tmp = helicity.helicity(inpath+sub,i,shape,1)\n",
    "    hkav[:,j] = np.mean(np.mean(tmp, axis=1), axis=1)\n",
    "    tmp = helicity.relative_helicity(inpath+sub,i,shape,1)\n",
    "    hkavr[:,j] = np.mean(np.mean(tmp, axis=1), axis=1)\n",
    "    \n",
    "    # magnetic helicity\n",
    "    tmp = helicity.helicity(inpath+sub,i,shape,2)\n",
    "    hmav[:,j] = np.mean(np.mean(tmp, axis=1), axis=1)\n",
    "    tmp = helicity.relative_helicity(inpath+sub,i,shape,2)\n",
    "    hmavr[:,j] = np.mean(np.mean(tmp, axis=1), axis=1)\n",
    "    \n",
    "    # cross helicity magntiude\n",
    "    tmp = helicity.helicity(inpath+sub,i,shape,3)\n",
    "    hcav[:,j] = np.mean(np.mean(abs(tmp), axis=1), axis=1)\n",
    "    tmp = helicity.relative_helicity(inpath+sub,i,shape,3)\n",
    "    hcavr[:,j] = np.mean(np.mean(abs(tmp), axis=1), axis=1)\n",
    "    \n",
    "    # emf in the direction of the mean-field\n",
    "    tmp = helicity.emfx(inpath+sub,i,shape)\n",
    "    emfx[:,j] = np.mean(np.mean(tmp, axis=1), axis=1)\n",
    "    tmp = helicity.emfx_norm(inpath+sub,i,shape)\n",
    "    emfxr[:,j] = np.mean(np.mean(tmp, axis=1), axis=1)\n",
    "    j += 1\n",
    "    "
   ],
   "metadata": {
    "collapsed": false,
    "pycharm": {
     "name": "#%% \n",
     "is_executing": true
    }
   },
   "execution_count": null,
   "outputs": []
  },
  {
   "cell_type": "markdown",
   "source": [
    "**Plotting**\n",
    "\n",
    "Kinetic helicity:"
   ],
   "metadata": {
    "collapsed": false,
    "pycharm": {
     "name": "#%% md\n"
    }
   }
  },
  {
   "cell_type": "code",
   "execution_count": null,
   "outputs": [],
   "source": [
    "numcolors = 5\n",
    "cm = plt.get_cmap('viridis')\n",
    "cnorm = colors.Normalize(vmin=0, vmax=numcolors-1)\n",
    "scalar_map = mplcm.ScalarMappable(norm=cnorm, cmap=cm)\n",
    "\n",
    "plt.subplot(1,2,1)\n",
    "ax = plt.gca()\n",
    "ax.set_prop_cycle(color=[scalar_map.to_rgba(i) for i in range(numcolors)])\n",
    "for i in range(numcolors):\n",
    "    plt.plot(z,hkav[:,i])\n",
    "\n",
    "plt.xlim(-20,20)\n",
    "plt.xlabel(r'$z/\\delta$')\n",
    "plt.ylabel(r'$\\langle h_k \\rangle$')\n",
    "\n",
    "plt.subplot(1,2,2)\n",
    "ax = plt.gca()\n",
    "ax.set_prop_cycle(color=[scalar_map.to_rgba(i) for i in range(numcolors)])\n",
    "for i in range(numcolors):\n",
    "    plt.plot(z,hkavr[:,i])\n",
    "\n",
    "plt.xlim(-20,20)\n",
    "plt.xlabel(r'$z/\\delta$')\n",
    "plt.ylabel(r'$\\langle h_k^* \\rangle$')"
   ],
   "metadata": {
    "collapsed": false,
    "pycharm": {
     "name": "#%%\n",
     "is_executing": true
    }
   }
  },
  {
   "cell_type": "markdown",
   "source": [
    "Magnetic helicity:"
   ],
   "metadata": {
    "collapsed": false,
    "pycharm": {
     "name": "#%% md\n"
    }
   }
  },
  {
   "cell_type": "code",
   "execution_count": null,
   "outputs": [],
   "source": [
    "plt.subplot(1,2,1)\n",
    "ax = plt.gca()\n",
    "ax.set_prop_cycle(color=[scalar_map.to_rgba(i) for i in range(numcolors)])\n",
    "for i in range(numcolors):\n",
    "    plt.plot(z,hmav[:,i])\n",
    "\n",
    "plt.xlim(-20,20)\n",
    "plt.xlabel(r'$z/\\delta$')\n",
    "plt.ylabel(r'$\\langle h_m \\rangle$')\n",
    "\n",
    "plt.subplot(1,2,2)\n",
    "ax = plt.gca()\n",
    "ax.set_prop_cycle(color=[scalar_map.to_rgba(i) for i in range(numcolors)])\n",
    "for i in range(numcolors):\n",
    "    plt.plot(z,hmavr[:,i])\n",
    "\n",
    "plt.xlim(-20,20)\n",
    "plt.xlabel(r'$z/\\delta$')\n",
    "plt.ylabel(r'$\\langle h_m^* \\rangle$')"
   ],
   "metadata": {
    "collapsed": false,
    "pycharm": {
     "name": "#%%\n",
     "is_executing": true
    }
   }
  },
  {
   "cell_type": "markdown",
   "source": [
    "Cross helicity magnitude:"
   ],
   "metadata": {
    "collapsed": false
   }
  },
  {
   "cell_type": "code",
   "execution_count": null,
   "outputs": [],
   "source": [
    "plt.subplot(1,2,1)\n",
    "ax = plt.gca()\n",
    "ax.set_prop_cycle(color=[scalar_map.to_rgba(i) for i in range(numcolors)])\n",
    "for i in range(numcolors):\n",
    "    plt.plot(z,hcav[:,i])\n",
    "\n",
    "plt.xlim(-20,20)\n",
    "plt.xlabel(r'$z/\\delta$')\n",
    "plt.ylabel(r'$\\langle |h_c| \\rangle$')\n",
    "\n",
    "plt.subplot(1,2,2)\n",
    "ax = plt.gca()\n",
    "ax.set_prop_cycle(color=[scalar_map.to_rgba(i) for i in range(numcolors)])\n",
    "for i in range(numcolors):\n",
    "    plt.plot(z,hcavr[:,i])\n",
    "\n",
    "plt.xlim(-20,20)\n",
    "plt.xlabel(r'$z/\\delta$')\n",
    "plt.ylabel(r'$\\langle |h_c^*| \\rangle$')"
   ],
   "metadata": {
    "collapsed": false,
    "pycharm": {
     "name": "#%%\n",
     "is_executing": true
    }
   }
  },
  {
   "cell_type": "markdown",
   "source": [
    "emf in the direction of the mean-field:"
   ],
   "metadata": {
    "collapsed": false
   }
  },
  {
   "cell_type": "code",
   "execution_count": null,
   "outputs": [],
   "source": [
    "plt.subplot(1,2,1)\n",
    "ax = plt.gca()\n",
    "ax.set_prop_cycle(color=[scalar_map.to_rgba(i) for i in range(numcolors)])\n",
    "for i in range(numcolors):\n",
    "    plt.plot(z,emfx[:,i])\n",
    "\n",
    "plt.xlim(-20,20)\n",
    "plt.xlabel(r'$z/\\delta$')\n",
    "plt.ylabel(r'$\\langle \\mathcal{E}_x \\rangle$')\n",
    "\n",
    "plt.subplot(1,2,2)\n",
    "ax = plt.gca()\n",
    "ax.set_prop_cycle(color=[scalar_map.to_rgba(i) for i in range(numcolors)])\n",
    "for i in range(numcolors):\n",
    "    plt.plot(z,emfxr[:,i])\n",
    "\n",
    "plt.xlim(-20,20)\n",
    "plt.xlabel(r'$z/\\delta$')\n",
    "plt.ylabel(r'$\\langle \\mathcal{E}_x^* \\rangle$')\n",
    "\n"
   ],
   "metadata": {
    "collapsed": false,
    "pycharm": {
     "name": "#%%\n",
     "is_executing": true
    }
   }
  }
 ],
 "metadata": {
  "kernelspec": {
   "name": "pycharm-e8fb7b47",
   "language": "python",
   "display_name": "PyCharm (MCwave)"
  },
  "language_info": {
   "codemirror_mode": {
    "name": "ipython",
    "version": 3
   },
   "file_extension": ".py",
   "mimetype": "text/x-python",
   "name": "python",
   "nbconvert_exporter": "python",
   "pygments_lexer": "ipython3",
   "version": "3.7.3"
  },
  "pycharm": {
   "stem_cell": {
    "cell_type": "raw",
    "source": [],
    "metadata": {
     "collapsed": false
    }
   }
  }
 },
 "nbformat": 4,
 "nbformat_minor": 2
}