{
 "cells": [
  {
   "cell_type": "markdown",
   "metadata": {
    "pycharm": {
     "name": "#%% md\n"
    }
   },
   "source": [
    "## Buoyant cloud initial conditions \n",
    "For the [**Magnetic-Coriolis (MC) wave project**](https://github.com/benmcdermott/MCwave)\n",
    " \n",
    "We initialise our numerical simulations (see simsetup.txt for simulation details) with a localised layer of buoyant anomalies in the vertical centre of the simulation box. Each one of the buoyant anomalies is spherical and has a Gaussian radial profile $\\rho^{\\prime} \\sim \\exp [-(\\boldsymbol{x}-\\boldsymbol{x}_i)^2/\\delta_i^2]$, where $\\boldsymbol{x}_i$ locates the blob centre and $\\delta_i$ is the blob size. The blob sizes are sampled from a uniform distribution about the mean blob size $\\delta$ such that $\\delta/2 \\leq \\delta_i \\leq \\delta$. We restrict the blob centres $\\boldsymbol{x}_i$ to the layer $-2 \\delta \\leq z \\leq 2 \\delta$, and the fill the box in the plane normal to $\\boldsymbol{e}_z$. We compute $b=g\\rho^{\\prime}/\\rho$ (units of acceleration) and output Fortran ordered binary files for input to the code.\n",
    "\n",
    "Initial velocity and magnetic fields are zero, the buoyancy field is the source of energy for the waves."
   ]
  },
  {
   "cell_type": "markdown",
   "metadata": {
    "pycharm": {
     "name": "#%% md\n"
    }
   },
   "source": [
    "**First import modules needed to generate initial fields**"
   ]
  },
  {
   "cell_type": "code",
   "execution_count": 11,
   "metadata": {
    "pycharm": {
     "is_executing": false,
     "name": "#%%\n"
    }
   },
   "outputs": [],
   "source": [
    "import numpy as np\n",
    "import random\n",
    "import matplotlib.pyplot as plt\n",
    "from matplotlib import rc\n",
    "from matplotlib import ticker\n",
    "\n",
    "%matplotlib inline\n",
    "\n",
    "plt.style.use('benmc')\n",
    "path = '/home/brm35/PycharmProjects/MCwave/'\n",
    "sub = 'initial_conditions/'"
   ]
  },
  {
   "cell_type": "markdown",
   "metadata": {
    "pycharm": {
     "name": "#%% md\n"
    }
   },
   "source": [
    "**Spatial resolution, grid and number of blobs**"
   ]
  },
  {
   "cell_type": "code",
   "execution_count": 12,
   "metadata": {
    "pycharm": {
     "is_executing": false,
     "name": "#%% \n"
    }
   },
   "outputs": [],
   "source": [
    "nx = 512                                        # points in (x,y)\n",
    "nz = 2*nx                                       # points in z\n",
    "nb = 1000                                       # number of blobs (recommended = 1000)\n",
    "delta = 0.125                                   # blob size\n",
    "gvx = np.linspace(-np.pi,np.pi,nx)              # grid vectors in (x,y) and z\n",
    "gvz = np.linspace(-3.0*np.pi,3.0*np.pi,nz)\n",
    "[X,Y,Z] = np.meshgrid(gvx,gvx,gvz, indexing='ij')              # 3D grid"
   ]
  },
  {
   "cell_type": "markdown",
   "metadata": {
    "pycharm": {
     "name": "#%% md\n"
    }
   },
   "source": [
    "**Sum random perturbations from $\\texttt{nb}$ blobs**"
   ]
  },
  {
   "cell_type": "code",
   "execution_count": null,
   "metadata": {
    "pycharm": {
     "is_executing": true,
     "name": "#%%\n"
    }
   },
   "outputs": [],
   "source": [
    "def gauss_blob(r,d):\n",
    "# note r is the position vector squared\n",
    "    return np.exp(-r/(d*d))\n",
    "\n",
    "b = np.zeros(np.shape(X))\n",
    "d = np.zeros((nb,1)) ; x= np.zeros((nb,1)) ; y = np.zeros((nb,1)) ; z = np.zeros((nb,1)) ;\n",
    "for i in range(nb):\n",
    "    d[i] = 0.5*delta + 0.5*delta*random.uniform(0,1)         # blob size\n",
    "    x[i] = -np.pi + 2.0*np.pi*random.uniform(0,1)            # x position\n",
    "    y[i] = -np.pi + 2.0*np.pi*random.uniform(0,1)            # y position\n",
    "    z[i] = -2.0*delta + 4.0*delta*random.uniform(0,1)        # z position\n",
    "    r = (X-x[i])**2 + (Y-y[i])**2 + (Z-z[i])**2              # squared position\n",
    "    b = b + gauss_blob(r,d[i])                               # sum random blobs"
   ]
  },
  {
   "cell_type": "markdown",
   "metadata": {},
   "source": [
    "**Plot buoyancy field in the mid-plane of the box**"
   ]
  },
  {
   "cell_type": "code",
   "execution_count": null,
   "metadata": {
    "pycharm": {
     "is_executing": true,
     "name": "#%%\n"
    }
   },
   "outputs": [],
   "source": [
    "i_mid =int(nz/2-1)              # index for middle slice\n",
    "b0 = b[:,:,i_mid]               # middle slice\n",
    "\n",
    "# plotting \n",
    "plt.figure(figsize=[6,5])\n",
    "p = plt.pcolor(X[:,:,i_mid]/delta, Y[:,:,i_mid]/delta, b0)\n",
    "ax = plt.gca() ;\n",
    "plt.xlabel(r'$x/\\delta$', fontsize=18) ;\n",
    "plt.ylabel(r'$y/\\delta$', fontsize=18) ;\n",
    "plt.setp(ax.get_xticklabels(), fontsize=18) ;\n",
    "plt.setp(ax.get_yticklabels(), fontsize=18) ;\n",
    "ax.set_xlim([-np.pi/delta,np.pi/delta]) ;\n",
    "ax.set_ylim([-np.pi/delta,np.pi/delta]) ;\n",
    "ax.axis('square')\n",
    "plt.clim(0.0,0.75*np.max(b0[:]))\n",
    "#plt.savefig(path+sub+'cloud_ic_midplane.png', dpi=600, bbox_inches='tight')"
   ]
  },
  {
   "cell_type": "markdown",
   "metadata": {
    "pycharm": {
     "name": "#%% md\n"
    }
   },
   "source": [
    "**Histograms of blob positions and sizes**"
   ]
  },
  {
   "cell_type": "code",
   "execution_count": null,
   "metadata": {
    "pycharm": {
     "is_executing": true,
     "name": "#%% \n"
    }
   },
   "outputs": [],
   "source": [
    "plt.figure(figsize=[18,3.5])\n",
    "plt.subplot(1,4,1)\n",
    "plt.hist(x/delta, bins='auto', color='#607c8e',alpha=0.7, rwidth=0.85)\n",
    "plt.xlabel(r'$x_i/\\delta$', fontsize=18) ;\n",
    "ax=plt.gca()\n",
    "plt.setp(ax.get_xticklabels(), fontsize=18) ;\n",
    "plt.setp(ax.get_yticklabels(), fontsize=18) ;\n",
    "\n",
    "plt.subplot(1,4,2)\n",
    "plt.hist(y/delta, bins='auto', color='#607c8e',alpha=0.7, rwidth=0.85)\n",
    "plt.xlabel(r'$y_i/\\delta$', fontsize=18) ;\n",
    "ax=plt.gca()\n",
    "plt.setp(ax.get_xticklabels(), fontsize=18) ;\n",
    "plt.setp(ax.get_yticklabels(), fontsize=18) ;\n",
    "\n",
    "plt.subplot(1,4,3)\n",
    "plt.hist(z/delta, bins='auto', color='#607c8e',alpha=0.7, rwidth=0.85)\n",
    "plt.xlabel(r'$z_i/\\delta$', fontsize=18) ;\n",
    "ax=plt.gca()\n",
    "plt.setp(ax.get_xticklabels(), fontsize=18) ;\n",
    "plt.setp(ax.get_yticklabels(), fontsize=18) ;\n",
    "\n",
    "plt.subplot(1,4,4)\n",
    "plt.hist(d/delta, bins='auto', color='#607c8e',alpha=0.7, rwidth=0.85)\n",
    "plt.xlabel(r'$\\delta_i/\\delta$', fontsize=18) ;\n",
    "ax=plt.gca()\n",
    "plt.setp(ax.get_xticklabels(), fontsize=18) ;\n",
    "plt.setp(ax.get_yticklabels(), fontsize=18) ;\n",
    "\n",
    "#plt.savefig(path+sub+'cloud_ic_hists.pdf', dpi=600, bbox_inches='tight')"
   ]
  },
  {
   "cell_type": "markdown",
   "metadata": {
    "pycharm": {
     "name": "#%% md\n"
    }
   },
   "source": [
    "**Fill fraction** : volume of blobs / volume of layer (~50 % is OK)"
   ]
  },
  {
   "cell_type": "code",
   "execution_count": null,
   "metadata": {
    "pycharm": {
     "is_executing": true,
     "name": "#%%\n"
    }
   },
   "outputs": [],
   "source": [
    "V_blobs = np.sum((4.0/3.0)*np.pi*(d/2)**2)\n",
    "V_layer = 4.0*delta*(2.0*np.pi)**2\n",
    "fill_fraction = V_blobs / V_layer\n",
    "print(f'Fill fraction: {100.0*fill_fraction} %')\n"
   ]
  },
  {
   "cell_type": "markdown",
   "metadata": {
    "pycharm": {
     "name": "#%% md\n"
    }
   },
   "source": [
    "**Horizontal spatial spectrum of mid-plane buoyancy**"
   ]
  },
  {
   "cell_type": "code",
   "execution_count": null,
   "metadata": {
    "pycharm": {
     "is_executing": true,
     "name": "#%%\n"
    }
   },
   "outputs": [],
   "source": [
    "from spectra import scalar_spec2d\n",
    "\n",
    "k, spec = scalar_spec2d(b0,nx)\n"
   ]
  },
  {
   "cell_type": "code",
   "execution_count": null,
   "metadata": {
    "pycharm": {
     "is_executing": true,
     "name": "#%%\n"
    }
   },
   "outputs": [],
   "source": [
    "plt.figure(figsize=[5,4])\n",
    "plt.plot(k,spec)\n",
    "ax=plt.gca()\n",
    "plt.xlabel(r'$k_{\\perp}$', fontsize=18) ;\n",
    "plt.ylabel(r'$E_b$', fontsize=18) ;\n",
    "plt.setp(ax.get_xticklabels(), fontsize=18) ;\n",
    "plt.setp(ax.get_yticklabels(), fontsize=18) ;\n",
    "ax.set_xlim([0,64]) ;\n",
    "ax.set_ylim([0,np.max(spec)+0.5*np.std(spec)]) ;\n",
    "#plt.savefig(path+sub+'cloud_ic_spec.pdf', dpi=600, bbox_inches='tight')"
   ]
  },
  {
   "cell_type": "markdown",
   "metadata": {
    "pycharm": {
     "name": "#%% md\n"
    }
   },
   "source": [
    "**If everything looks good, output buoyancy as a Fortran-ordered binary** \n",
    "\n",
    "We may need to scale the buoyancy field to set the flow magnitude, this is mainly based on past experience and trial and error"
   ]
  },
  {
   "cell_type": "code",
   "execution_count": null,
   "metadata": {
    "pycharm": {
     "is_executing": true,
     "name": "#%%\n"
    }
   },
   "outputs": [],
   "source": [
    "brms = np.sqrt(np.mean((b0[:])**2))         # r.m.s. in mid-plane\n",
    "print(brms)\n",
    "\n",
    "#b = 2.0*b   # scale magnitude\n",
    "b0 = b[:,:,i_mid]\n",
    "brms = np.sqrt(np.mean((b0[:])**2))\n",
    "print(brms)\n",
    "\n",
    "# output \n",
    "#file = open(path+sub+'th.0001.out','w+')\n",
    "#b_out.astype('float32').tofile(file)\n",
    "#file.close()\n"
   ]
  }
 ],
 "metadata": {
  "kernelspec": {
   "display_name": "PyCharm (MCwave)",
   "language": "python",
   "name": "pycharm-e8fb7b47"
  },
  "language_info": {
   "codemirror_mode": {
    "name": "ipython",
    "version": 3
   },
   "file_extension": ".py",
   "mimetype": "text/x-python",
   "name": "python",
   "nbconvert_exporter": "python",
   "pygments_lexer": "ipython3",
   "version": "3.7.3"
  },
  "pycharm": {
   "stem_cell": {
    "cell_type": "raw",
    "source": [],
    "metadata": {
     "collapsed": false
    }
   }
  }
 },
 "nbformat": 4,
 "nbformat_minor": 1
}