{
 "cells": [
  {
   "cell_type": "markdown",
   "metadata": {
    "pycharm": {
     "name": "#%% md\n"
    }
   },
   "source": [
    "## Buoyant cloud initial conditions \n",
    "For the [**Magnetic-Coriolis (MC) wave project**](https://github.com/benmcdermott/MCwave)\n",
    " \n",
    "We initialise our numerical simulations (see simsetup.txt for simulation details) with a localised layer of buoyant anomalies in the vertical centre of the simulation box. Each one of the buoyant anomalies is spherical and has a Gaussian radial profile $\\rho^{\\prime} \\sim \\exp [-(\\boldsymbol{x}-\\boldsymbol{x}_i)^2/\\delta_i^2]$, where $\\boldsymbol{x}_i$ locates the blob centre and $\\delta_i$ is the blob size. The blob sizes are sampled from a uniform distribution about the mean blob size $\\delta$ such that $\\delta/2 \\leq \\delta_i \\leq 3\\delta/2$. We restrict the blob centres $\\boldsymbol{x}_i$ to the layer $-2 \\delta \\leq z \\leq 2 \\delta$, and the fill the box in the plane normal to $\\boldsymbol{e}_z$. We compute $b=g\\rho^{\\prime}/\\rho$ (units of acceleration) and output Fortran ordered binary files for input to the code.\n",
    "\n",
    "Initial velocity and magnetic fields are zero, the buoyancy field is the source of energy for the waves."
   ]
  },
  {
   "cell_type": "markdown",
   "metadata": {
    "pycharm": {
     "name": "#%% md\n"
    }
   },
   "source": [
    "**First import modules needed to generate initial fields**"
   ]
  },
  {
   "cell_type": "code",
   "execution_count": 4,
   "metadata": {
    "pycharm": {
     "is_executing": false,
     "name": "#%%\n"
    }
   },
   "outputs": [],
   "source": [
    "import numpy as np\n",
    "import random\n",
    "import matplotlib.pyplot as plt\n",
    "from matplotlib import rc\n",
    "from matplotlib import ticker\n",
    "\n",
    "%matplotlib inline\n",
    "rc('text', usetex=True)\n",
    "rc('axes', linewidth=1.5)\n",
    "rc('lines', linewidth=2.0)\n",
    "rc('xtick.major', size=5)\n",
    "rc('xtick.major', width=1.5)\n",
    "rc('ytick.major', size=5)\n",
    "rc('ytick.major', width=1.5)\n",
    "#plt.style.use('benmc')\n",
    "path = '/home/brm35/PycharmProjects/MCwave/'\n",
    "sub = 'initial_conditions/'"
   ]
  },
  {
   "cell_type": "markdown",
   "metadata": {
    "pycharm": {
     "name": "#%% md\n"
    }
   },
   "source": [
    "**Spatial resolution, grid and number of blobs**"
   ]
  },
  {
   "cell_type": "code",
   "execution_count": 5,
   "metadata": {
    "pycharm": {
     "is_executing": false,
     "name": "#%% \n"
    }
   },
   "outputs": [],
   "source": [
    "nx = 512                                        # points in (x,y)\n",
    "nz = nx                                         # points in z\n",
    "nb = 1000                                       # number of blobs\n",
    "delta = 0.125                                   # blob size\n",
    "gvx = np.linspace(-np.pi,np.pi,nx)              # grid vectors in (x,y) and z\n",
    "gvz = np.linspace(-3.0*np.pi,3.0*np.pi,nz)\n",
    "[X,Y,Z] = np.meshgrid(gvx,gvx,gvz)              # 3D grid"
   ]
  },
  {
   "cell_type": "markdown",
   "metadata": {
    "pycharm": {
     "name": "#%% md\n"
    }
   },
   "source": [
    "**Sum random perturbations from $\\texttt{nb}$ blobs**"
   ]
  },
  {
   "cell_type": "code",
   "execution_count": null,
   "metadata": {
    "pycharm": {
     "is_executing": true,
     "name": "#%%\n"
    }
   },
   "outputs": [],
   "source": [
    "def gauss_blob(r,d):\n",
    "# note r is the position vector squared\n",
    "    return np.exp(-r/(d*d))\n",
    "\n",
    "b = np.zeros(np.shape(X))\n",
    "d = np.zeros((nb,1)) ; x= np.zeros((nb,1)) ; y = np.zeros((nb,1)) ; z = np.zeros((nb,1)) ;\n",
    "for i in range(nb):\n",
    "    d[i] = 0.5*delta + 0.5*delta*random.uniform(0,1)         # blob size\n",
    "    x[i] = -np.pi + 2.0*np.pi*random.uniform(0,1)            # x position\n",
    "    y[i] = -np.pi + 2.0*np.pi*random.uniform(0,1)            # y position\n",
    "    z[i] = -2.0*delta + 4.0*delta*random.uniform(0,1)        # z position\n",
    "    r = (X-x[i])**2 + (Y-y[i])**2 + (Z-z[i])**2              # squared position\n",
    "    b = b + gauss_blob(r,d[i])                               # sum random blobs"
   ]
  },
  {
   "cell_type": "markdown",
   "metadata": {},
   "source": [
    "**Plot buoyancy field in the mid-plane of the box**"
   ]
  },
  {
   "cell_type": "code",
   "execution_count": null,
   "metadata": {
    "pycharm": {
     "is_executing": true,
     "name": "#%%\n"
    }
   },
   "outputs": [],
   "source": [
    "i_mid =int(nz/2-1)              # index for middle slice\n",
    "b0 = b[:,:,i_mid]               # middle slice\n",
    "\n",
    "# plotting \n",
    "plt.figure(figsize=[6,5])\n",
    "p = plt.pcolor(X[:,:,i_mid]/delta, Y[:,:,i_mid]/delta, b0)\n",
    "ax = plt.gca() ;\n",
    "plt.xlabel(r'$x/\\delta$', fontsize=18) ;\n",
    "plt.ylabel(r'$y/\\delta$', fontsize=18) ;\n",
    "plt.setp(ax.get_xticklabels(), fontsize=18) ;\n",
    "plt.setp(ax.get_yticklabels(), fontsize=18) ;\n",
    "ax.set_xlim([-np.pi/delta,np.pi/delta]) ;\n",
    "ax.set_ylim([-np.pi/delta,np.pi/delta]) ;\n",
    "ax.axis('square')\n",
    "plt.clim(0.0,0.75*np.max(b0[:]))\n",
    "plt.savefig(path+sub+'cloud_ic_midplane.png', dpi=600, bbox_inches='tight')"
   ]
  },
  {
   "cell_type": "markdown",
   "metadata": {
    "pycharm": {
     "name": "#%% md\n"
    }
   },
   "source": [
    "**Histograms of blob positions and sizes**"
   ]
  },
  {
   "cell_type": "code",
   "execution_count": null,
   "metadata": {
    "pycharm": {
     "is_executing": true,
     "name": "#%% \n"
    }
   },
   "outputs": [],
   "source": [
    "plt.figure(figsize=[18,3.5])\n",
    "plt.subplot(1,4,1)\n",
    "plt.hist(x/delta, bins='auto', color='#607c8e',alpha=0.7, rwidth=0.85)\n",
    "plt.xlabel(r'$x_i/\\delta$', fontsize=18) ;\n",
    "ax=plt.gca()\n",
    "plt.setp(ax.get_xticklabels(), fontsize=18) ;\n",
    "plt.setp(ax.get_yticklabels(), fontsize=18) ;\n",
    "\n",
    "plt.subplot(1,4,2)\n",
    "plt.hist(y/delta, bins='auto', color='#607c8e',alpha=0.7, rwidth=0.85)\n",
    "plt.xlabel(r'$y_i/\\delta$', fontsize=18) ;\n",
    "ax=plt.gca()\n",
    "plt.setp(ax.get_xticklabels(), fontsize=18) ;\n",
    "plt.setp(ax.get_yticklabels(), fontsize=18) ;\n",
    "\n",
    "plt.subplot(1,4,3)\n",
    "plt.hist(z/delta, bins='auto', color='#607c8e',alpha=0.7, rwidth=0.85)\n",
    "plt.xlabel(r'$z_i/\\delta$', fontsize=18) ;\n",
    "ax=plt.gca()\n",
    "plt.setp(ax.get_xticklabels(), fontsize=18) ;\n",
    "plt.setp(ax.get_yticklabels(), fontsize=18) ;\n",
    "\n",
    "plt.subplot(1,4,4)\n",
    "plt.hist(d/delta, bins='auto', color='#607c8e',alpha=0.7, rwidth=0.85)\n",
    "plt.xlabel(r'$\\delta_i/\\delta$', fontsize=18) ;\n",
    "ax=plt.gca()\n",
    "plt.setp(ax.get_xticklabels(), fontsize=18) ;\n",
    "plt.setp(ax.get_yticklabels(), fontsize=18) ;\n",
    "\n",
    "plt.savefig(path+sub+'cloud_ic_hists.pdf', dpi=600, bbox_inches='tight')"
   ]
  },
  {
   "cell_type": "markdown",
   "metadata": {
    "pycharm": {
     "name": "#%% md\n"
    }
   },
   "source": [
    "**Fill fraction** : volume of blobs / volume of layer (~50 % is OK)"
   ]
  },
  {
   "cell_type": "code",
   "execution_count": null,
   "outputs": [],
   "source": [
    "V_blobs = np.sum((4.0/3.0)*np.pi*(d/2)**2)\n",
    "V_layer = 4.0*delta*(2.0*np.pi)**2\n",
    "fill_fraction = V_blobs / V_layer\n",
    "print(f'Fill fraction: {100.0*fill_fraction} %')\n"
   ],
   "metadata": {
    "collapsed": false,
    "pycharm": {
     "name": "#%%\n",
     "is_executing": true
    }
   }
  },
  {
   "cell_type": "markdown",
   "source": [
    "**Horizontal spatial spectrum of mid-plane buoyancy**"
   ],
   "metadata": {
    "collapsed": false,
    "pycharm": {
     "name": "#%% md\n"
    }
   }
  },
  {
   "cell_type": "code",
   "execution_count": null,
   "outputs": [],
   "source": [
    "# function to compute 2D isotropic spectra in a plane\n",
    "def scalar_spec2d(s,nx):\n",
    "    factor = 1.0/nx/nx                                  # fft normalisation factor\n",
    "    ind = int(nx/2)\n",
    "    dk = 1.0\n",
    "    k = np.arange(0.0,nx/2-1+dk,1.0)                         # positive horizontal wavenumbers\n",
    "    s_hat = np.fft.fft2(s)                              # 2D fft\n",
    "    s_hat = factor*s_hat[0:ind,0:ind]                   # normalise and cut\n",
    "    \n",
    "    kmag = np.zeros((ind,ind))\n",
    "    E = np.zeros((ind,ind))\n",
    "    for i in range(ind):\n",
    "        for j in range(ind):\n",
    "            kmag[i,j] = np.sqrt(k[i]**2 + k[j]**2)\n",
    "            E[i,j] = np.pi*kmag[i,j]*s_hat[i,j]*np.conj(s_hat[i,j])\n",
    "    \n",
    "    # sort E by increasing order of k\n",
    "    kflat = np.ndarray.flatten(kmag)\n",
    "    Eflat = np.ndarray.flatten(np.real(E))\n",
    "    isort = np.argsort(kflat)\n",
    "    ksort = kflat[isort]\n",
    "    Esort = Eflat[isort]\n",
    "    \n",
    "    # form spectrum as a function of k_perp by binning Esort into rings of width dk=1\n",
    "    spec = np.zeros((ind,1))\n",
    "    for i in range(ind):\n",
    "        for j in range(ind**2):\n",
    "            if ksort[j] >= k[i]:\n",
    "                if ksort[j] < k[i]+dk:\n",
    "                    spec[i] += Esort[j]\n",
    "    \n",
    "    return k, spec\n",
    "\n",
    "k, spec = scalar_spec2d(b0,nx)"
   ],
   "metadata": {
    "collapsed": false,
    "pycharm": {
     "name": "#%%\n",
     "is_executing": true
    }
   }
  },
  {
   "cell_type": "code",
   "execution_count": null,
   "outputs": [],
   "source": [
    "plt.figure(figsize=[5,4])\n",
    "plt.plot(k,spec)\n",
    "ax=plt.gca()\n",
    "plt.xlabel(r'$k_{\\perp}$', fontsize=18) ;\n",
    "plt.ylabel(r'$E_b$', fontsize=18) ;\n",
    "plt.setp(ax.get_xticklabels(), fontsize=18) ;\n",
    "plt.setp(ax.get_yticklabels(), fontsize=18) ;\n",
    "ax.set_xlim([0,64]) ;\n",
    "ax.set_ylim([0,np.max(spec)+0.5*np.std(spec)]) ;\n",
    "plt.savefig(path+sub+'cloud_ic_spec.pdf', dpi=600, bbox_inches='tight')"
   ],
   "metadata": {
    "collapsed": false,
    "pycharm": {
     "name": "#%%\n",
     "is_executing": true
    }
   }
  },
  {
   "cell_type": "markdown",
   "source": [
    "**If everything looks good, output buoyancy as a Fortran-ordered binary**"
   ],
   "metadata": {
    "collapsed": false,
    "pycharm": {
     "name": "#%% md\n"
    }
   }
  },
  {
   "cell_type": "code",
   "execution_count": null,
   "outputs": [],
   "source": [
    "np.isfortran(b)"
   ],
   "metadata": {
    "collapsed": false,
    "pycharm": {
     "name": "#%%\n",
     "is_executing": true
    }
   }
  },
  {
   "cell_type": "code",
   "execution_count": null,
   "outputs": [],
   "source": [
    "\n"
   ],
   "metadata": {
    "collapsed": false,
    "pycharm": {
     "name": "#%%\n",
     "is_executing": true
    }
   }
  }
 ],
 "metadata": {
  "kernelspec": {
   "display_name": "PyCharm (MCwave)",
   "language": "python",
   "name": "pycharm-e8fb7b47"
  },
  "language_info": {
   "codemirror_mode": {
    "name": "ipython",
    "version": 3
   },
   "file_extension": ".py",
   "mimetype": "text/x-python",
   "name": "python",
   "nbconvert_exporter": "python",
   "pygments_lexer": "ipython3",
   "version": "3.7.3"
  },
  "pycharm": {
   "stem_cell": {
    "cell_type": "raw",
    "source": [],
    "metadata": {
     "collapsed": false
    }
   }
  }
 },
 "nbformat": 4,
 "nbformat_minor": 1
}