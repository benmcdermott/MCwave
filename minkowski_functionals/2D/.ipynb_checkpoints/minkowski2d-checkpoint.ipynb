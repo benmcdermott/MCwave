{
 "cells": [
  {
   "cell_type": "code",
   "execution_count": 1,
   "metadata": {},
   "outputs": [],
   "source": [
    "import numpy as np\n",
    "from skimage.measure import label, regionprops\n",
    "import matplotlib.pyplot as plt"
   ]
  },
  {
   "cell_type": "code",
   "execution_count": 2,
   "metadata": {},
   "outputs": [],
   "source": [
    "inpath = '/vistabella/BRM35_4TB/hirm/ghost/blob/'\n",
    "outpath = '/home/brm35/work/hirm/blob/minkowski/'\n",
    "sub = 'le1e-8/'"
   ]
  },
  {
   "cell_type": "code",
   "execution_count": 3,
   "metadata": {},
   "outputs": [],
   "source": [
    "NX = 512\n",
    "NY = 512\n",
    "NZ = 2*NX\n",
    "shape = (NZ,NX,NY)\n",
    "delta = 0.125\n",
    "x = np.linspace(-np.pi,np.pi,NX) / delta\n",
    "z = np.linspace(-3.0*np.pi,3.0*np.pi,NZ) / delta\n",
    "dx = x[1] - x[0]\n",
    "dz = z[1] - z[0]\n",
    "dA = dx*dz\n",
    "dC = np.hypot(dx,dz)"
   ]
  },
  {
   "cell_type": "code",
   "execution_count": 4,
   "metadata": {},
   "outputs": [],
   "source": [
    "vz = np.fromfile(inpath+sub+'vx.0031.out', dtype=np.float32).reshape(shape, order='F')\n",
    "cut = int(NY/2)\n",
    "vz = vz[NX+1:,:,cut]\n",
    "threshold = 2.0*np.std(vz[:])"
   ]
  },
  {
   "cell_type": "code",
   "execution_count": 5,
   "metadata": {},
   "outputs": [
    {
     "data": {
      "text/plain": [
       "<matplotlib.image.AxesImage at 0x7fa9871fd860>"
      ]
     },
     "execution_count": 5,
     "metadata": {},
     "output_type": "execute_result"
    },
    {
     "data": {
      "image/png": "[encoded data removed]",
      "text/plain": [
       "<Figure size 288x144 with 2 Axes>"
      ]
     },
     "metadata": {
      "needs_background": "light"
     },
     "output_type": "display_data"
    }
   ],
   "source": [
    "binary = vz > threshold\n",
    "\n",
    "plt.figure(figsize=[4,2])\n",
    "plt.subplot(1,2,1)\n",
    "plt.pcolormesh(x, z[NX+1:], vz, cmap='seismic')\n",
    "ax = plt.gca()\n",
    "ax.set_aspect('equal')\n",
    "plt.clim(-2.0*threshold, 2.0*threshold)\n",
    "\n",
    "plt.subplot(1,2,2)\n",
    "plt.imshow(binary, origin='lower', extent=(-25,25,0,75))"
   ]
  },
  {
   "cell_type": "code",
   "execution_count": 14,
   "metadata": {},
   "outputs": [],
   "source": [
    "label_img = label(binary)\n",
    "regions = regionprops(label_img)\n",
    "\n",
    "area = []\n",
    "perimiter = []\n",
    "euler = []\n",
    "num_blobs = 1\n",
    "for region in regions:\n",
    "    area.append(region.area*dA)\n",
    "    perimiter.append(region.perimeter*dC)\n",
    "    euler.append(region.euler_number)\n",
    "    assert region.euler_number == 1, 'Euler number > 1 -> Image has holes!'\n",
    "\n",
    "area = area[:num_blobs]\n",
    "perimiter = perimiter[:num_blobs]\n",
    "euler = euler[:num_blobs]\n"
   ]
  },
  {
   "cell_type": "code",
   "execution_count": 18,
   "metadata": {},
   "outputs": [
    {
     "name": "stdout",
     "output_type": "stream",
     "text": [
      "[array([67.01844899]), array([52.58786684]), array([3.14159265])]\n"
     ]
    }
   ],
   "source": [
    "V0 = np.array(area)\n",
    "V1 = 0.5*np.array(perimiter)\n",
    "V2 = np.pi*np.array(euler)\n",
    "\n",
    "print([V0,V1,V2])"
   ]
  }
 ],
 "metadata": {
  "kernelspec": {
   "display_name": "Python 3",
   "language": "python",
   "name": "python3"
  },
  "language_info": {
   "codemirror_mode": {
    "name": "ipython",
    "version": 3
   },
   "file_extension": ".py",
   "mimetype": "text/x-python",
   "name": "python",
   "nbconvert_exporter": "python",
   "pygments_lexer": "ipython3",
   "version": "3.7.3"
  },
  "pycharm": {
   "stem_cell": {
    "cell_type": "raw",
    "metadata": {
     "collapsed": false
    },
    "source": []
   }
  }
 },
 "nbformat": 4,
 "nbformat_minor": 1
}
